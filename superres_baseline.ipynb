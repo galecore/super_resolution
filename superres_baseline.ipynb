{
 "cells": [
  {
   "cell_type": "code",
   "execution_count": 1,
   "metadata": {},
   "outputs": [
    {
     "name": "stdout",
     "output_type": "stream",
     "text": [
      "Populating the interactive namespace from numpy and matplotlib\n"
     ]
    }
   ],
   "source": [
    "import torch\n",
    "from torchvision.transforms import RandomCrop, Resize\n",
    "from PIL import Image\n",
    "from sklearn.datasets import fetch_lfw_people\n",
    "%pylab inline"
   ]
  },
  {
   "cell_type": "code",
   "execution_count": 2,
   "metadata": {},
   "outputs": [],
   "source": [
    "dataset = fetch_lfw_people(data_home=\"faces\")\n",
    "# pairs_generator()"
   ]
  },
  {
   "cell_type": "code",
   "execution_count": 3,
   "metadata": {},
   "outputs": [],
   "source": [
    "data, images = dataset[\"data\"], dataset[\"images\"]\n",
    "n = data.shape[0]"
   ]
  },
  {
   "cell_type": "code",
   "execution_count": 4,
   "metadata": {},
   "outputs": [],
   "source": [
    "def pairs_generator(to_torch=False):\n",
    "    bigcropper = RandomCrop(size=(40,40))\n",
    "    resizer = Resize(size=(20,20))\n",
    "    for image in map(Image.fromarray, images):\n",
    "        big = bigcropper(image)\n",
    "        small = resizer(big)\n",
    "        if to_torch:\n",
    "            yield tuple(map(lambda img: torch.from_numpy(np.array(img)), (small, big)))       \n",
    "        else:\n",
    "            yield tuple(map(np.array, (small, big)))    "
   ]
  },
  {
   "cell_type": "code",
   "execution_count": 5,
   "metadata": {},
   "outputs": [],
   "source": [
    "def raw_batch_generator(batch_size=32):\n",
    "    generator = pairs_generator(to_torch=True)\n",
    "    for i in range(n//batch_size):\n",
    "        yield [next(generator) for i in range(batch_size)]\n",
    "\n",
    "def images_and_labels_generator(batch_size=32):\n",
    "    for batch in raw_batch_generator(batch_size):\n",
    "        images, labels = [], []\n",
    "        for (small, big) in batch:\n",
    "            images.append(small)\n",
    "            labels.append(big)\n",
    "        batch_images = torch.stack(images, dim=0).unsqueeze(1)\n",
    "        batch_labels = torch.stack(labels, dim=0).unsqueeze(1)\n",
    "        yield batch_images, batch_labels"
   ]
  },
  {
   "cell_type": "code",
   "execution_count": 6,
   "metadata": {},
   "outputs": [
    {
     "data": {
      "text/plain": [
       "(13233, 2914)"
      ]
     },
     "execution_count": 6,
     "metadata": {},
     "output_type": "execute_result"
    }
   ],
   "source": [
    "# gen = raw_batch_generator()\n",
    "# for i, _ in enumerate(gen):\n",
    "#     print(i)\n",
    "data.shape"
   ]
  },
  {
   "cell_type": "code",
   "execution_count": 7,
   "metadata": {},
   "outputs": [],
   "source": [
    "x, y = next(images_and_labels_generator())"
   ]
  },
  {
   "cell_type": "code",
   "execution_count": 8,
   "metadata": {},
   "outputs": [
    {
     "data": {
      "text/plain": [
       "<matplotlib.image.AxesImage at 0x7ff01d766cc0>"
      ]
     },
     "execution_count": 8,
     "metadata": {},
     "output_type": "execute_result"
    },
    {
     "data": {
      "image/png": "[encoded data removed]",
      "text/plain": [
       "<Figure size 432x288 with 1 Axes>"
      ]
     },
     "metadata": {
      "needs_background": "light"
     },
     "output_type": "display_data"
    }
   ],
   "source": [
    "plt.imshow(x[0, 0, :, :])"
   ]
  },
  {
   "cell_type": "code",
   "execution_count": 9,
   "metadata": {},
   "outputs": [
    {
     "data": {
      "image/png": "[encoded data removed]",
      "text/plain": [
       "<Figure size 432x288 with 6 Axes>"
      ]
     },
     "metadata": {
      "needs_background": "light"
     },
     "output_type": "display_data"
    }
   ],
   "source": [
    "nrows, ncols = (3,2)\n",
    "# def \n",
    "fig, axs = plt.subplots(nrows=nrows, ncols=ncols)\n",
    "for i, (small, big) in enumerate(pairs_generator()):\n",
    "    ax1, ax2 = axs[i]\n",
    "    ax1.imshow(small, cmap=plt.cm.gray)\n",
    "    ax2.imshow(big, cmap=plt.cm.gray)\n",
    "    if i + 1 >= nrows:\n",
    "        break"
   ]
  },
  {
   "cell_type": "code",
   "execution_count": null,
   "metadata": {},
   "outputs": [],
   "source": []
  },
  {
   "cell_type": "code",
   "execution_count": 10,
   "metadata": {},
   "outputs": [],
   "source": [
    "from torch import nn\n",
    "class Net(nn.Module):\n",
    "    def __init__(self, upscale):\n",
    "        super(Net, self).__init__()\n",
    "        self.relu = nn.ReLU()\n",
    "#         self.batch_norm = nn.BatchNorm2d(64)\n",
    "        self.conv1 = nn.Conv2d(1, 64, (5, 5), padding=(2, 2))\n",
    "        self.conv2 = nn.Conv2d(64, 64, (3, 3), padding=(1, 1))\n",
    "        self.conv21 = nn.Conv2d(64, 64, (3, 3), padding=(1, 1))\n",
    "        self.conv22 = nn.Conv2d(64, 64, (3, 3), padding=(1, 1))\n",
    "        self.conv3 = nn.Conv2d(64, 32, (3, 3), padding=(1, 1))\n",
    "        self.conv4 = nn.Conv2d(32,  32**upscale, (3, 3), padding=(1,1))\n",
    "        self.pixel_shuffle1 = nn.PixelShuffle(upscale)\n",
    "        self.conv5 = nn.Conv2d(256, 1, (3,3), padding=(1,1))\n",
    "        self._initialize_weights()\n",
    "\n",
    "    def forward(self, x):\n",
    "        x = self.relu(self.conv1(x))\n",
    "        x = self.relu(self.conv2(x))\n",
    "        x = self.relu(self.conv21(x))\n",
    "        x = self.relu(self.conv22(x))\n",
    "        x = self.relu(self.conv3(x))\n",
    "        x = self.pixel_shuffle1(self.conv4(x))\n",
    "        x = self.conv5(x)\n",
    "        return x\n",
    "\n",
    "    def _initialize_weights(self):\n",
    "        init = nn.init\n",
    "        init.orthogonal_(self.conv1.weight, init.calculate_gain('relu'))\n",
    "        init.orthogonal_(self.conv2.weight, init.calculate_gain('relu'))\n",
    "        init.orthogonal_(self.conv3.weight, init.calculate_gain('relu'))\n",
    "        init.orthogonal_(self.conv4.weight)\n",
    "        init.orthogonal_(self.conv5.weight)"
   ]
  },
  {
   "cell_type": "code",
   "execution_count": 11,
   "metadata": {},
   "outputs": [
    {
     "name": "stdout",
     "output_type": "stream",
     "text": [
      "cuda:0\n"
     ]
    }
   ],
   "source": [
    "device = \"cuda:0\" if torch.cuda.is_available() else \"cpu\"\n",
    "print(device)"
   ]
  },
  {
   "cell_type": "code",
   "execution_count": 12,
   "metadata": {},
   "outputs": [],
   "source": [
    "net = Net(upscale=2).to(device)\n",
    "\n",
    "criterion = torch.nn.MSELoss()\n",
    "optimizer = torch.optim.Adam(net.parameters(), amsgrad=True)"
   ]
  },
  {
   "cell_type": "code",
   "execution_count": 13,
   "metadata": {},
   "outputs": [
    {
     "data": {
      "text/plain": [
       "<matplotlib.image.AxesImage at 0x7ff01d525630>"
      ]
     },
     "execution_count": 13,
     "metadata": {},
     "output_type": "execute_result"
    },
    {
     "data": {
      "image/png": "[encoded data removed]",
      "text/plain": [
       "<Figure size 432x288 with 1 Axes>"
      ]
     },
     "metadata": {
      "needs_background": "light"
     },
     "output_type": "display_data"
    }
   ],
   "source": [
    "# net.forward(x.to(device)).shape\n",
    "z = net.forward(x.to(device)).cpu().detach()[0, 0, :, :]\n",
    "plt.imshow(z)"
   ]
  },
  {
   "cell_type": "code",
   "execution_count": 14,
   "metadata": {},
   "outputs": [
    {
     "data": {
      "text/plain": [
       "(torch.Size([40, 40]), torch.Size([40, 40]))"
      ]
     },
     "execution_count": 14,
     "metadata": {},
     "output_type": "execute_result"
    }
   ],
   "source": [
    "z.shape, y[0,0,:,:].shape"
   ]
  },
  {
   "cell_type": "code",
   "execution_count": 15,
   "metadata": {},
   "outputs": [],
   "source": [
    "def psnr(mse): \n",
    "    return 10 * np.log10(1 / mse)"
   ]
  },
  {
   "cell_type": "code",
   "execution_count": 16,
   "metadata": {},
   "outputs": [
    {
     "name": "stdout",
     "output_type": "stream",
     "text": [
      "Epoch 0 started\n",
      "Batch 0 loss 18451.125,  psnr: -42.66022851058601\n",
      "Batch 50 loss 621.801025390625,  psnr: -27.936514338878148\n",
      "Batch 100 loss 182.7587127685547,  psnr: -22.618780905114725\n",
      "Batch 150 loss 101.59245300292969,  psnr: -20.068614467183554\n",
      "Batch 200 loss 66.6784896850586,  psnr: -18.239857541902587\n"
     ]
    }
   ],
   "source": [
    "errs, metrics = list(), list()\n",
    "for epoch in range(1):\n",
    "    print(\"Epoch {} started\".format(epoch))\n",
    "    net.train()\n",
    "    for i, (data, target) in enumerate(images_and_labels_generator(64)):\n",
    "        optimizer.zero_grad()\n",
    "        \n",
    "        batch_features = data.to(device)\n",
    "        batch_labels = target.to(device)\n",
    "        \n",
    "        batch_preds = net.forward(batch_features)\n",
    "#         print(batch_preds.shape)\n",
    "        loss = criterion(batch_preds, batch_labels)\n",
    "        loss.backward()\n",
    "        optimizer.step()\n",
    "        \n",
    "        if i % 50 == 0:\n",
    "            err = loss.item()\n",
    "            metric = psnr(err)\n",
    "            errs.append(err)\n",
    "            metrics.append(metric)\n",
    "            print(\"Batch {} loss {}, \".format(i, err), end=\" \")\n",
    "            print(\"psnr: {}\".format(metric))"
   ]
  },
  {
   "cell_type": "code",
   "execution_count": 17,
   "metadata": {},
   "outputs": [],
   "source": [
    "pred, answ = net.forward(x.to(device)).cpu().detach()[0, 0, :, :], y[0, 0, :, :]"
   ]
  },
  {
   "cell_type": "code",
   "execution_count": 18,
   "metadata": {},
   "outputs": [],
   "source": [
    "# for i in range(0, 32, 4):\n",
    "#     for j in range(0, 32, 4):\n",
    "#         print(pred[i, j], answ[i, j])"
   ]
  },
  {
   "cell_type": "code",
   "execution_count": 21,
   "metadata": {},
   "outputs": [
    {
     "data": {
      "image/png": "[encoded data removed]",
      "text/plain": [
       "<Figure size 432x288 with 6 Axes>"
      ]
     },
     "metadata": {
      "needs_background": "light"
     },
     "output_type": "display_data"
    }
   ],
   "source": [
    "nrows, ncols = (2,3)\n",
    "pred, answ = net.forward(x.to(device)).cpu().detach()[0:nrows, 0, :, :], y[0:nrows, 0, :, :]\n",
    "fig, axs = plt.subplots(nrows=nrows, ncols=ncols, sharex=True)\n",
    "for i, (prd, ans) in enumerate(zip(pred, answ)):\n",
    "    ax1, ax2, ax3 = axs[i]\n",
    "    resizer = Resize(size=(40,40))\n",
    "    img = Image.fromarray(x[i, 0, :, :].numpy())\n",
    "    ax1.imshow(resizer(img))\n",
    "    ax1.set_title(\"Basic resize\")\n",
    "    ax2.imshow(prd, cmap=plt.cm.gray)\n",
    "    ax2.set_title(\"Prediction\")\n",
    "    ax3.imshow(ans, cmap=plt.cm.gray)\n",
    "    ax3.set_title(\"Answer\")\n",
    "    if i + 1 >= nrows:\n",
    "        break"
   ]
  },
  {
   "cell_type": "code",
   "execution_count": null,
   "metadata": {},
   "outputs": [],
   "source": []
  },
  {
   "cell_type": "code",
   "execution_count": null,
   "metadata": {},
   "outputs": [],
   "source": []
  },
  {
   "cell_type": "code",
   "execution_count": null,
   "metadata": {},
   "outputs": [],
   "source": []
  },
  {
   "cell_type": "code",
   "execution_count": null,
   "metadata": {},
   "outputs": [],
   "source": []
  }
 ],
 "metadata": {
  "kernelspec": {
   "display_name": "Python 3",
   "language": "python",
   "name": "python3"
  },
  "language_info": {
   "codemirror_mode": {
    "name": "ipython",
    "version": 3
   },
   "file_extension": ".py",
   "mimetype": "text/x-python",
   "name": "python",
   "nbconvert_exporter": "python",
   "pygments_lexer": "ipython3",
   "version": "3.6.6"
  }
 },
 "nbformat": 4,
 "nbformat_minor": 2
}
